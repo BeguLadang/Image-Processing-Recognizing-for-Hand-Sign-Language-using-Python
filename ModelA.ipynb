{
 "cells": [
  {
   "cell_type": "markdown",
   "metadata": {},
   "source": [
    "## CNN Model TA-D4TI 05 ModelA\n"
   ]
  },
  {
   "cell_type": "code",
   "execution_count": 1,
   "metadata": {},
   "outputs": [
    {
     "name": "stderr",
     "output_type": "stream",
     "text": [
      "Using TensorFlow backend.\n"
     ]
    }
   ],
   "source": [
    "import numpy as np\n",
    "import pandas as pd\n",
    "import tensorflow as tf\n",
    "import matplotlib.pyplot as plt\n",
    "from collections import Counter\n",
    "import cv2, os\n",
    "import keras\n",
    "from keras.models import Sequential\n",
    "from keras.layers import Conv2D\n",
    "from keras.layers import MaxPooling2D\n",
    "from keras.layers import Flatten\n",
    "from keras.layers import Dense, Dropout\n",
    "from keras import optimizers"
   ]
  },
  {
   "cell_type": "code",
   "execution_count": 2,
   "metadata": {},
   "outputs": [
    {
     "name": "stdout",
     "output_type": "stream",
     "text": [
      "[name: \"/device:CPU:0\"\n",
      "device_type: \"CPU\"\n",
      "memory_limit: 268435456\n",
      "locality {\n",
      "}\n",
      "incarnation: 8140201999179711629\n",
      ", name: \"/device:XLA_GPU:0\"\n",
      "device_type: \"XLA_GPU\"\n",
      "memory_limit: 17179869184\n",
      "locality {\n",
      "}\n",
      "incarnation: 17164509081926584907\n",
      "physical_device_desc: \"device: XLA_GPU device\"\n",
      ", name: \"/device:XLA_CPU:0\"\n",
      "device_type: \"XLA_CPU\"\n",
      "memory_limit: 17179869184\n",
      "locality {\n",
      "}\n",
      "incarnation: 14197429794747384780\n",
      "physical_device_desc: \"device: XLA_CPU device\"\n",
      ", name: \"/device:GPU:0\"\n",
      "device_type: \"GPU\"\n",
      "memory_limit: 11276946637\n",
      "locality {\n",
      "  bus_id: 1\n",
      "  links {\n",
      "  }\n",
      "}\n",
      "incarnation: 18300151703064612220\n",
      "physical_device_desc: \"device: 0, name: Tesla K80, pci bus id: 0000:00:04.0, compute capability: 3.7\"\n",
      "]\n"
     ]
    }
   ],
   "source": [
    "from keras import backend as K\n",
    "K.tensorflow_backend._get_available_gpus()\n",
    "from tensorflow.python.client import device_lib\n",
    "print(device_lib.list_local_devices())"
   ]
  },
  {
   "cell_type": "code",
   "execution_count": 3,
   "metadata": {},
   "outputs": [],
   "source": [
    "config = tf.ConfigProto( device_count = {'GPU': 1 , 'CPU': 56} ) \n",
    "sess = tf.Session(config=config) \n",
    "keras.backend.set_session(sess)"
   ]
  },
  {
   "cell_type": "markdown",
   "metadata": {},
   "source": [
    "## Set Directory Dataset American Sign Language"
   ]
  },
  {
   "cell_type": "code",
   "execution_count": 4,
   "metadata": {},
   "outputs": [],
   "source": [
    "train_dir = 'mydata/train_set/'\n",
    "train_folders = os.listdir(train_dir)\n",
    "test_dir = 'mydata/test_set/'\n",
    "test_files = os.listdir(test_dir)"
   ]
  },
  {
   "cell_type": "markdown",
   "metadata": {},
   "source": [
    "## Build CNN Model"
   ]
  },
  {
   "cell_type": "code",
   "execution_count": 6,
   "metadata": {},
   "outputs": [
    {
     "name": "stdout",
     "output_type": "stream",
     "text": [
      "Found 69600 images belonging to 29 classes.\n",
      "Found 17400 images belonging to 29 classes.\n"
     ]
    }
   ],
   "source": [
    "# Part 1 Building the CNN\n",
    "# Importing the Keras libraries and packages\n",
    "\n",
    "\n",
    "# Images Dimensions\n",
    "img_width, img_height = 200, 200\n",
    "train_data_dir = 'mydata/train_set'\n",
    "test_data_dir = 'mydata/test_set'\n",
    "# Initialing the CNN\n",
    "classifier = Sequential()\n",
    "\n",
    "# Step 1 - Convolution Layer \n",
    "classifier.add(Conv2D(32, (1, 1), \n",
    "                      activation = \"relu\", \n",
    "                      input_shape = (200, 200, 3)))\n",
    "# Parameter pertama (32) adalah nilai filter nya\n",
    "# Parameter kedua adalah dimensi filter nya (3×3)\n",
    "# Parameter ketiga adalah fungsi aktivasi yang kita gunakan (relu)\n",
    "# Parameter keempat self explained yaitu bentuk input nya dan tipe nya (Grayscale)\n",
    "\n",
    "# Step 2 - Pooling, Pooling bertujuan untuk mereduksi ukuran gambar\n",
    "classifier.add(MaxPooling2D(pool_size =(2,2)))\n",
    "\n",
    "# Adding second convolution layer\n",
    "classifier.add(Conv2D(32, (1, 1), activation = \"relu\"))\n",
    "classifier.add(MaxPooling2D(pool_size =(2,2)))\n",
    "\n",
    "# Adding 3rd Concolution Layer\n",
    "classifier.add(Conv2D(64, (1, 1), activation = \"relu\"))\n",
    "classifier.add(MaxPooling2D(pool_size =(2,2)))\n",
    "\n",
    "# Adding 4rd Concolution Layer ( New Layer )\n",
    "classifier.add(Conv2D(64, (1, 1), activation = \"relu\"))\n",
    "classifier.add(MaxPooling2D(pool_size =(2,2)))\n",
    "\n",
    "# Step 3 - Flattening\n",
    "# Data pooling yang kita miliki berupa array 2 dimensi kemudian dikonversi menjadi data satu dimensi single vector\n",
    "classifier.add(Flatten())\n",
    "\n",
    "# Step 4 - Full Connection\n",
    "# Dense adalah fungsi untuk menambahkan layer yang fully connected.\n",
    "# Parameter 1 (units)menandakan jumlah node yang harus ada di hidden layer,\n",
    "# nilainya antara jumlah input node dan output node\n",
    "classifier.add(Dense(256, activation = \"relu\"))\n",
    "classifier.add(Dropout(0.5))\n",
    "classifier.add(Dense(29, activation = \"softmax\"))\n",
    "\n",
    "# Compiling The CNN,optimizer yang digunakan Stochastic Gradient Descent dengan learning rate 0.01 \n",
    "classifier.compile(\n",
    "              optimizer = optimizers.SGD(lr = 0.01),\n",
    "              loss = 'categorical_crossentropy',\n",
    "              metrics = ['accuracy'])\n",
    "\n",
    "# Part 2 Fittting the CNN to the image\n",
    "from keras.preprocessing.image import ImageDataGenerator\n",
    "train_datagen = ImageDataGenerator(\n",
    "        rescale=1./255,\n",
    "        shear_range=0.2,\n",
    "        zoom_range=0.2,\n",
    "        horizontal_flip=True)\n",
    "\n",
    "test_datagen = ImageDataGenerator(rescale=1./255)\n",
    "\n",
    "training_set = train_datagen.flow_from_directory(\n",
    "        train_data_dir,\n",
    "        target_size=(img_width, img_height),\n",
    "        batch_size=32,\n",
    "        class_mode='categorical')\n",
    "\n",
    "test_set = test_datagen.flow_from_directory(\n",
    "        test_data_dir,\n",
    "        target_size=(img_width, img_height),\n",
    "        batch_size=32,\n",
    "        class_mode='categorical')"
   ]
  },
  {
   "cell_type": "markdown",
   "metadata": {},
   "source": [
    "## Dataset Identification"
   ]
  },
  {
   "cell_type": "code",
   "execution_count": 7,
   "metadata": {},
   "outputs": [
    {
     "name": "stdout",
     "output_type": "stream",
     "text": [
      "Reading images from mydata/train_set/E/ ...\n",
      "Reading images from mydata/train_set/Y/ ...\n",
      "Reading images from mydata/train_set/B/ ...\n",
      "Reading images from mydata/train_set/V/ ...\n",
      "Reading images from mydata/train_set/space/ ...\n",
      "Reading images from mydata/train_set/Z/ ...\n",
      "Reading images from mydata/train_set/N/ ...\n",
      "Reading images from mydata/train_set/X/ ...\n",
      "Reading images from mydata/train_set/I/ ...\n",
      "Reading images from mydata/train_set/T/ ...\n",
      "Reading images from mydata/train_set/L/ ...\n",
      "Reading images from mydata/train_set/H/ ...\n",
      "Reading images from mydata/train_set/D/ ...\n",
      "Reading images from mydata/train_set/del/ ...\n",
      "Reading images from mydata/train_set/R/ ...\n",
      "Reading images from mydata/train_set/O/ ...\n",
      "Reading images from mydata/train_set/U/ ...\n",
      "Reading images from mydata/train_set/C/ ...\n",
      "Reading images from mydata/train_set/J/ ...\n",
      "Reading images from mydata/train_set/W/ ...\n",
      "Reading images from mydata/train_set/nothing/ ...\n",
      "Reading images from mydata/train_set/F/ ...\n",
      "Reading images from mydata/train_set/A/ ...\n",
      "Reading images from mydata/train_set/Q/ ...\n",
      "Reading images from mydata/train_set/M/ ...\n",
      "Reading images from mydata/train_set/P/ ...\n",
      "Reading images from mydata/train_set/S/ ...\n",
      "Reading images from mydata/train_set/G/ ...\n",
      "Reading images from mydata/train_set/K/ ...\n"
     ]
    }
   ],
   "source": [
    "x_train, y_train = [], []\n",
    "for folder in train_folders:\n",
    "    files = os.listdir(train_dir + folder)\n",
    "    print('Reading images from ' + train_dir + folder + '/ ...')\n",
    "    for file in files[:87000]:\n",
    "        img = cv2.imread(train_dir + folder + '/' + file)\n",
    "        img = cv2.resize(img, (200, 200))\n",
    "        x_train.append(img)\n",
    "        y_train.append(folder)"
   ]
  },
  {
   "cell_type": "code",
   "execution_count": 8,
   "metadata": {},
   "outputs": [
    {
     "name": "stdout",
     "output_type": "stream",
     "text": [
      "Reading images from mydata/test_set/E/ ...\n",
      "Reading images from mydata/test_set/Y/ ...\n",
      "Reading images from mydata/test_set/B/ ...\n",
      "Reading images from mydata/test_set/V/ ...\n",
      "Reading images from mydata/test_set/space/ ...\n",
      "Reading images from mydata/test_set/Z/ ...\n",
      "Reading images from mydata/test_set/N/ ...\n",
      "Reading images from mydata/test_set/X/ ...\n",
      "Reading images from mydata/test_set/I/ ...\n",
      "Reading images from mydata/test_set/T/ ...\n",
      "Reading images from mydata/test_set/L/ ...\n",
      "Reading images from mydata/test_set/H/ ...\n",
      "Reading images from mydata/test_set/D/ ...\n",
      "Reading images from mydata/test_set/del/ ...\n",
      "Reading images from mydata/test_set/R/ ...\n",
      "Reading images from mydata/test_set/O/ ...\n",
      "Reading images from mydata/test_set/U/ ...\n",
      "Reading images from mydata/test_set/C/ ...\n",
      "Reading images from mydata/test_set/J/ ...\n",
      "Reading images from mydata/test_set/W/ ...\n",
      "Reading images from mydata/test_set/nothing/ ...\n",
      "Reading images from mydata/test_set/F/ ...\n",
      "Reading images from mydata/test_set/A/ ...\n",
      "Reading images from mydata/test_set/Q/ ...\n",
      "Reading images from mydata/test_set/M/ ...\n",
      "Reading images from mydata/test_set/P/ ...\n",
      "Reading images from mydata/test_set/S/ ...\n",
      "Reading images from mydata/test_set/G/ ...\n",
      "Reading images from mydata/test_set/K/ ...\n"
     ]
    }
   ],
   "source": [
    "x_train, y_train = [], []\n",
    "for folder in train_folders:\n",
    "    files = os.listdir(test_dir + folder)\n",
    "    print('Reading images from ' + test_dir + folder + '/ ...')\n",
    "    for file in files[:87000]:\n",
    "        img = cv2.imread(test_dir + folder + '/' + file)\n",
    "        img = cv2.resize(img, (200, 200))\n",
    "        x_train.append(img)\n",
    "        y_train.append(folder)"
   ]
  },
  {
   "cell_type": "code",
   "execution_count": 9,
   "metadata": {
    "scrolled": false
   },
   "outputs": [
    {
     "name": "stdout",
     "output_type": "stream",
     "text": [
      "WARNING:tensorflow:From /usr/local/lib/python3.5/dist-packages/tensorflow/python/ops/math_ops.py:3066: to_int32 (from tensorflow.python.ops.math_ops) is deprecated and will be removed in a future version.\n",
      "Instructions for updating:\n",
      "Use tf.cast instead.\n",
      "Epoch 1/10\n",
      "10/10 [==============================] - 19s 2s/step - loss: 3.3652 - acc: 0.0344 - val_loss: 3.3634 - val_acc: 0.0234\n",
      "Epoch 2/10\n",
      "10/10 [==============================] - 3s 312ms/step - loss: 3.3725 - acc: 0.0250 - val_loss: 3.3618 - val_acc: 0.0375\n",
      "Epoch 3/10\n",
      "10/10 [==============================] - 4s 407ms/step - loss: 3.3704 - acc: 0.0406 - val_loss: 3.3598 - val_acc: 0.0391\n",
      "Epoch 4/10\n",
      "10/10 [==============================] - 4s 410ms/step - loss: 3.3634 - acc: 0.0469 - val_loss: 3.3602 - val_acc: 0.0453\n",
      "Epoch 5/10\n",
      "10/10 [==============================] - 4s 406ms/step - loss: 3.3655 - acc: 0.0219 - val_loss: 3.3610 - val_acc: 0.0406\n",
      "Epoch 6/10\n",
      "10/10 [==============================] - 4s 404ms/step - loss: 3.3691 - acc: 0.0406 - val_loss: 3.3613 - val_acc: 0.0484\n",
      "Epoch 7/10\n",
      "10/10 [==============================] - 4s 402ms/step - loss: 3.3622 - acc: 0.0375 - val_loss: 3.3583 - val_acc: 0.0375\n",
      "Epoch 8/10\n",
      "10/10 [==============================] - 4s 395ms/step - loss: 3.3606 - acc: 0.0563 - val_loss: 3.3598 - val_acc: 0.0594\n",
      "Epoch 9/10\n",
      "10/10 [==============================] - 4s 402ms/step - loss: 3.3645 - acc: 0.0312 - val_loss: 3.3599 - val_acc: 0.0312\n",
      "Epoch 10/10\n",
      "10/10 [==============================] - 4s 403ms/step - loss: 3.3661 - acc: 0.0406 - val_loss: 3.3601 - val_acc: 0.0500\n",
      "dict_keys(['loss', 'acc', 'val_acc', 'val_loss'])\n"
     ]
    }
   ],
   "source": [
    "model = classifier.fit_generator(\n",
    "        training_set,\n",
    "        steps_per_epoch=10,\n",
    "        epochs=10,\n",
    "        validation_data = test_set,\n",
    "        validation_steps = 20 \n",
    "      )\n",
    "\n",
    "# Saving the model\n",
    "import h5py\n",
    "classifier.save('Trained_model_A_sibi.h5')\n",
    "\n",
    "print(model.history.keys())"
   ]
  },
  {
   "cell_type": "code",
   "execution_count": 10,
   "metadata": {},
   "outputs": [
    {
     "data": {
      "image/png": "[encoded data removed]",
      "text/plain": [
       "<Figure size 432x288 with 1 Axes>"
      ]
     },
     "metadata": {},
     "output_type": "display_data"
    }
   ],
   "source": [
    "import matplotlib.pyplot as plt\n",
    "# summarize history for accuracy\n",
    "plt.plot(model.history['acc'])\n",
    "plt.plot(model.history['val_acc'])\n",
    "plt.title('model accuracy')\n",
    "plt.ylabel('accuracy')\n",
    "plt.xlabel('epoch')\n",
    "plt.legend(['train', 'test'], loc='upper left')\n",
    "plt.show()"
   ]
  },
  {
   "cell_type": "code",
   "execution_count": 11,
   "metadata": {},
   "outputs": [
    {
     "data": {
      "image/png": "[encoded data removed]",
      "text/plain": [
       "<Figure size 432x288 with 1 Axes>"
      ]
     },
     "metadata": {},
     "output_type": "display_data"
    }
   ],
   "source": [
    "# summarize history for loss\n",
    "plt.plot(model.history['loss'])\n",
    "plt.plot(model.history['val_loss'])\n",
    "plt.title('model loss')\n",
    "plt.ylabel('loss')\n",
    "plt.xlabel('epoch')\n",
    "plt.legend(['train', 'test'], loc='upper left')\n",
    "plt.show()"
   ]
  },
  {
   "cell_type": "code",
   "execution_count": null,
   "metadata": {},
   "outputs": [],
   "source": []
  }
 ],
 "metadata": {
  "kernelspec": {
   "display_name": "Python 3",
   "language": "python",
   "name": "python3"
  },
  "language_info": {
   "codemirror_mode": {
    "name": "ipython",
    "version": 3
   },
   "file_extension": ".py",
   "mimetype": "text/x-python",
   "name": "python",
   "nbconvert_exporter": "python",
   "pygments_lexer": "ipython3",
   "version": "3.6.8"
  }
 },
 "nbformat": 4,
 "nbformat_minor": 2
}

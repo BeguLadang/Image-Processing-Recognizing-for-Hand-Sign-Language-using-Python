{
 "cells": [
  {
   "cell_type": "markdown",
   "metadata": {},
   "source": [
    "## CNN Model TA-D4TI 05 Model C"
   ]
  },
  {
   "cell_type": "code",
   "execution_count": 3,
   "metadata": {},
   "outputs": [],
   "source": [
    "import numpy as np\n",
    "import pandas as pd\n",
    "import tensorflow as tf\n",
    "import matplotlib.pyplot as plt\n",
    "from collections import Counter\n",
    "import cv2, os\n",
    "import keras\n",
    "from keras.models import Sequential\n",
    "from keras.layers import Conv2D\n",
    "from keras.layers import MaxPooling2D\n",
    "from keras.layers import Flatten\n",
    "from keras.layers import Dense, Dropout\n",
    "from keras import optimizers"
   ]
  },
  {
   "cell_type": "code",
   "execution_count": 4,
   "metadata": {},
   "outputs": [],
   "source": [
    "config = tf.ConfigProto( device_count = {'GPU': 1 , 'CPU': 56} ) \n",
    "sess = tf.Session(config=config) \n",
    "keras.backend.set_session(sess)\n",
    "sess = tf.Session(config=tf.ConfigProto(log_device_placement=True))"
   ]
  },
  {
   "cell_type": "markdown",
   "metadata": {},
   "source": [
    "## Set Directory Dataset American Sign Language"
   ]
  },
  {
   "cell_type": "code",
   "execution_count": 5,
   "metadata": {},
   "outputs": [],
   "source": [
    "train_dir = 'mydata/train_set/'\n",
    "train_folders = os.listdir(train_dir)\n",
    "test_dir = 'mydata/test_set/'\n",
    "test_files = os.listdir(test_dir)"
   ]
  },
  {
   "cell_type": "markdown",
   "metadata": {},
   "source": [
    "## Build CNN Model"
   ]
  },
  {
   "cell_type": "code",
   "execution_count": 6,
   "metadata": {},
   "outputs": [
    {
     "name": "stdout",
     "output_type": "stream",
     "text": [
      "WARNING:tensorflow:From /usr/local/lib/python3.5/dist-packages/tensorflow/python/framework/op_def_library.py:263: colocate_with (from tensorflow.python.framework.ops) is deprecated and will be removed in a future version.\n",
      "Instructions for updating:\n",
      "Colocations handled automatically by placer.\n",
      "WARNING:tensorflow:From /usr/local/lib/python3.5/dist-packages/keras/backend/tensorflow_backend.py:3445: calling dropout (from tensorflow.python.ops.nn_ops) with keep_prob is deprecated and will be removed in a future version.\n",
      "Instructions for updating:\n",
      "Please use `rate` instead of `keep_prob`. Rate should be set to `rate = 1 - keep_prob`.\n",
      "Found 69600 images belonging to 29 classes.\n",
      "Found 17400 images belonging to 29 classes.\n"
     ]
    }
   ],
   "source": [
    "# Part 1 Building the CNN\n",
    "# Importing the Keras libraries and packages\n",
    "\n",
    "\n",
    "# Images Dimensions\n",
    "img_width, img_height = 200, 200\n",
    "train_data_dir = 'mydata/train_set'\n",
    "test_data_dir = 'mydata/test_set'\n",
    "# Initialing the CNN\n",
    "classifier = Sequential()\n",
    "\n",
    "# Step 1 - Convolution Layer \n",
    "classifier.add(Conv2D(32, (3, 3), \n",
    "                      activation = \"relu\", \n",
    "                      input_shape = (200, 200, 3)))\n",
    "# Parameter pertama (32) adalah nilai filter nya\n",
    "# Parameter kedua adalah dimensi filter nya (3×3)\n",
    "# Parameter ketiga adalah fungsi aktivasi yang kita gunakan (relu)\n",
    "# Parameter keempat self explained yaitu bentuk input nya dan tipe nya (Grayscale)\n",
    "\n",
    "# Step 2 - Pooling, Pooling bertujuan untuk mereduksi ukuran gambar\n",
    "classifier.add(MaxPooling2D(pool_size =(2,2)))\n",
    "\n",
    "# Adding second convolution layer\n",
    "classifier.add(Conv2D(32, (3, 3), activation = \"relu\"))\n",
    "classifier.add(MaxPooling2D(pool_size =(2,2)))\n",
    "\n",
    "# Adding 3rd Concolution Layer\n",
    "classifier.add(Conv2D(64, (3, 3), activation = \"relu\"))\n",
    "classifier.add(MaxPooling2D(pool_size =(2,2)))\n",
    "\n",
    "# Adding 4rd Concolution Layer ( New Layer )\n",
    "classifier.add(Conv2D(64, (3, 3), activation = \"relu\"))\n",
    "classifier.add(MaxPooling2D(pool_size =(2,2)))\n",
    "\n",
    "# Step 3 - Flattening\n",
    "# Data pooling yang kita miliki berupa array 2 dimensi kemudian dikonversi menjadi data satu dimensi single vector\n",
    "classifier.add(Flatten())\n",
    "\n",
    "# Step 4 - Full Connection\n",
    "# Dense adalah fungsi untuk menambahkan layer yang fully connected.\n",
    "# Parameter 1 (units)menandakan jumlah node yang harus ada di hidden layer,\n",
    "# nilainya antara jumlah input node dan output node\n",
    "classifier.add(Dense(256, activation = \"relu\"))\n",
    "classifier.add(Dropout(0.5))\n",
    "classifier.add(Dense(29, activation = \"softmax\"))\n",
    "\n",
    "# Compiling The CNN,optimizer yang digunakan Stochastic Gradient Descent dengan learning rate 0.01 \n",
    "classifier.compile(\n",
    "              optimizer = optimizers.SGD(lr = 0.01),\n",
    "              loss = 'categorical_crossentropy',\n",
    "              metrics = ['accuracy'])\n",
    "\n",
    "# Part 2 Fittting the CNN to the image\n",
    "from keras.preprocessing.image import ImageDataGenerator\n",
    "train_datagen = ImageDataGenerator(\n",
    "        rescale=1./255,\n",
    "        shear_range=0.2,\n",
    "        zoom_range=0.2,\n",
    "        horizontal_flip=True)\n",
    "\n",
    "test_datagen = ImageDataGenerator(rescale=1./255)\n",
    "\n",
    "training_set = train_datagen.flow_from_directory(\n",
    "        train_data_dir,\n",
    "        target_size=(img_width, img_height),\n",
    "        batch_size=32,\n",
    "        class_mode='categorical')\n",
    "\n",
    "test_set = test_datagen.flow_from_directory(\n",
    "        test_data_dir,\n",
    "        target_size=(img_width, img_height),\n",
    "        batch_size=32,\n",
    "        class_mode='categorical')"
   ]
  },
  {
   "cell_type": "markdown",
   "metadata": {},
   "source": [
    "## Dataset Identification"
   ]
  },
  {
   "cell_type": "code",
   "execution_count": 7,
   "metadata": {},
   "outputs": [
    {
     "name": "stdout",
     "output_type": "stream",
     "text": [
      "Reading images from mydata/train_set/E/ ...\n",
      "Reading images from mydata/train_set/Y/ ...\n",
      "Reading images from mydata/train_set/B/ ...\n",
      "Reading images from mydata/train_set/V/ ...\n",
      "Reading images from mydata/train_set/space/ ...\n",
      "Reading images from mydata/train_set/Z/ ...\n",
      "Reading images from mydata/train_set/N/ ...\n",
      "Reading images from mydata/train_set/X/ ...\n",
      "Reading images from mydata/train_set/I/ ...\n",
      "Reading images from mydata/train_set/T/ ...\n",
      "Reading images from mydata/train_set/L/ ...\n",
      "Reading images from mydata/train_set/H/ ...\n",
      "Reading images from mydata/train_set/D/ ...\n",
      "Reading images from mydata/train_set/del/ ...\n",
      "Reading images from mydata/train_set/R/ ...\n",
      "Reading images from mydata/train_set/O/ ...\n",
      "Reading images from mydata/train_set/U/ ...\n",
      "Reading images from mydata/train_set/C/ ...\n",
      "Reading images from mydata/train_set/J/ ...\n",
      "Reading images from mydata/train_set/W/ ...\n",
      "Reading images from mydata/train_set/nothing/ ...\n",
      "Reading images from mydata/train_set/F/ ...\n",
      "Reading images from mydata/train_set/A/ ...\n",
      "Reading images from mydata/train_set/Q/ ...\n",
      "Reading images from mydata/train_set/M/ ...\n",
      "Reading images from mydata/train_set/P/ ...\n",
      "Reading images from mydata/train_set/S/ ...\n",
      "Reading images from mydata/train_set/G/ ...\n"
     ]
    }
   ],
   "source": [
    "x_train, y_train = [], []\n",
    "for folder in train_folders:\n",
    "    files = os.listdir(train_dir + folder)\n",
    "    print('Reading images from ' + train_dir + folder + '/ ...')\n",
    "    for file in files[:87000]:\n",
    "        img = cv2.imread(train_dir + folder + '/' + file)\n",
    "        img = cv2.resize(img, (200, 200))\n",
    "        x_train.append(img)\n",
    "        y_train.append(folder)"
   ]
  },
  {
   "cell_type": "code",
   "execution_count": 8,
   "metadata": {},
   "outputs": [
    {
     "name": "stdout",
     "output_type": "stream",
     "text": [
      "Reading images from mydata/test_set/E/ ...\n",
      "Reading images from mydata/test_set/Y/ ...\n",
      "Reading images from mydata/test_set/B/ ...\n",
      "Reading images from mydata/test_set/V/ ...\n",
      "Reading images from mydata/test_set/space/ ...\n",
      "Reading images from mydata/test_set/Z/ ...\n",
      "Reading images from mydata/test_set/N/ ...\n",
      "Reading images from mydata/test_set/X/ ...\n",
      "Reading images from mydata/test_set/I/ ...\n",
      "Reading images from mydata/test_set/T/ ...\n",
      "Reading images from mydata/test_set/L/ ...\n",
      "Reading images from mydata/test_set/H/ ...\n",
      "Reading images from mydata/test_set/D/ ...\n",
      "Reading images from mydata/test_set/del/ ...\n",
      "Reading images from mydata/test_set/R/ ...\n",
      "Reading images from mydata/test_set/O/ ...\n",
      "Reading images from mydata/test_set/U/ ...\n",
      "Reading images from mydata/test_set/C/ ...\n",
      "Reading images from mydata/test_set/J/ ...\n",
      "Reading images from mydata/test_set/W/ ...\n",
      "Reading images from mydata/test_set/nothing/ ...\n",
      "Reading images from mydata/test_set/F/ ...\n",
      "Reading images from mydata/test_set/A/ ...\n",
      "Reading images from mydata/test_set/Q/ ...\n",
      "Reading images from mydata/test_set/M/ ...\n",
      "Reading images from mydata/test_set/P/ ...\n",
      "Reading images from mydata/test_set/S/ ...\n",
      "Reading images from mydata/test_set/G/ ...\n",
      "Reading images from mydata/test_set/K/ ...\n"
     ]
    }
   ],
   "source": [
    "x_train, y_train = [], []\n",
    "for folder in train_folders:\n",
    "    files = os.listdir(test_dir + folder)\n",
    "    print('Reading images from ' + test_dir + folder + '/ ...')\n",
    "    for file in files[:87000]:\n",
    "        img = cv2.imread(test_dir + folder + '/' + file)\n",
    "        img = cv2.resize(img, (200, 200))\n",
    "        x_train.append(img)\n",
    "        y_train.append(folder)"
   ]
  },
  {
   "cell_type": "code",
   "execution_count": 9,
   "metadata": {
    "scrolled": false
   },
   "outputs": [
    {
     "name": "stdout",
     "output_type": "stream",
     "text": [
      "WARNING:tensorflow:From /usr/local/lib/python3.5/dist-packages/tensorflow/python/ops/math_ops.py:3066: to_int32 (from tensorflow.python.ops.math_ops) is deprecated and will be removed in a future version.\n",
      "Instructions for updating:\n",
      "Use tf.cast instead.\n",
      "Epoch 1/10\n",
      "10/10 [==============================] - 18s 2s/step - loss: 3.3691 - acc: 0.0406 - val_loss: 3.3720 - val_acc: 0.0344\n",
      "Epoch 2/10\n",
      "10/10 [==============================] - 3s 297ms/step - loss: 3.3683 - acc: 0.0563 - val_loss: 3.3669 - val_acc: 0.0422\n",
      "Epoch 3/10\n",
      "10/10 [==============================] - 4s 432ms/step - loss: 3.3731 - acc: 0.0406 - val_loss: 3.3649 - val_acc: 0.0422\n",
      "Epoch 4/10\n",
      "10/10 [==============================] - 4s 419ms/step - loss: 3.3577 - acc: 0.0406 - val_loss: 3.3606 - val_acc: 0.0453\n",
      "Epoch 5/10\n",
      "10/10 [==============================] - 4s 422ms/step - loss: 3.3612 - acc: 0.0375 - val_loss: 3.3550 - val_acc: 0.0656\n",
      "Epoch 6/10\n",
      "10/10 [==============================] - 4s 419ms/step - loss: 3.3572 - acc: 0.0594 - val_loss: 3.3569 - val_acc: 0.0328\n",
      "Epoch 7/10\n",
      "10/10 [==============================] - 4s 422ms/step - loss: 3.3590 - acc: 0.0312 - val_loss: 3.3541 - val_acc: 0.0344\n",
      "Epoch 8/10\n",
      "10/10 [==============================] - 4s 414ms/step - loss: 3.3496 - acc: 0.0500 - val_loss: 3.3566 - val_acc: 0.0328\n",
      "Epoch 9/10\n",
      "10/10 [==============================] - 4s 422ms/step - loss: 3.3454 - acc: 0.0594 - val_loss: 3.3430 - val_acc: 0.0484\n",
      "Epoch 10/10\n",
      "10/10 [==============================] - 4s 427ms/step - loss: 3.3580 - acc: 0.0531 - val_loss: 3.3497 - val_acc: 0.0516\n",
      "dict_keys(['loss', 'val_acc', 'acc', 'val_loss'])\n"
     ]
    }
   ],
   "source": [
    "model = classifier.fit_generator(\n",
    "        training_set,\n",
    "        steps_per_epoch=10,\n",
    "        epochs=10,\n",
    "        validation_data = test_set,\n",
    "        validation_steps = 20 \n",
    "      )\n",
    "\n",
    "# Saving the model\n",
    "import h5py\n",
    "classifier.save('Trained_model_C_sibi(5 Epoch 1x1 BlackWhite).h5')\n",
    "\n",
    "print(model.history.keys())"
   ]
  },
  {
   "cell_type": "code",
   "execution_count": 10,
   "metadata": {},
   "outputs": [
    {
     "data": {
      "image/png": "[encoded data removed]",
      "text/plain": [
       "<Figure size 432x288 with 1 Axes>"
      ]
     },
     "metadata": {},
     "output_type": "display_data"
    }
   ],
   "source": [
    "import matplotlib.pyplot as plt\n",
    "# summarize history for accuracy\n",
    "plt.plot(model.history['acc'])\n",
    "plt.plot(model.history['val_acc'])\n",
    "plt.title('model accuracy')\n",
    "plt.ylabel('accuracy')\n",
    "plt.xlabel('epoch')\n",
    "plt.legend(['train', 'test'], loc='upper left')\n",
    "plt.show()"
   ]
  },
  {
   "cell_type": "code",
   "execution_count": 11,
   "metadata": {},
   "outputs": [
    {
     "data": {
      "image/png": "[encoded data removed]",
      "text/plain": [
       "<Figure size 432x288 with 1 Axes>"
      ]
     },
     "metadata": {},
     "output_type": "display_data"
    }
   ],
   "source": [
    "# summarize history for loss\n",
    "plt.plot(model.history['loss'])\n",
    "plt.plot(model.history['val_loss'])\n",
    "plt.title('model loss')\n",
    "plt.ylabel('loss')\n",
    "plt.xlabel('epoch')\n",
    "plt.legend(['train', 'test'], loc='upper left')\n",
    "plt.show()"
   ]
  },
  {
   "cell_type": "code",
   "execution_count": null,
   "metadata": {},
   "outputs": [],
   "source": []
  }
 ],
 "metadata": {
  "kernelspec": {
   "display_name": "Python 3",
   "language": "python",
   "name": "python3"
  },
  "language_info": {
   "codemirror_mode": {
    "name": "ipython",
    "version": 3
   },
   "file_extension": ".py",
   "mimetype": "text/x-python",
   "name": "python",
   "nbconvert_exporter": "python",
   "pygments_lexer": "ipython3",
   "version": "3.6.8"
  }
 },
 "nbformat": 4,
 "nbformat_minor": 2
}

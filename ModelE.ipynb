{
 "cells": [
  {
   "cell_type": "markdown",
   "metadata": {},
   "source": [
    "## CNN Model TA-D4TI 05 Model E"
   ]
  },
  {
   "cell_type": "code",
   "execution_count": 2,
   "metadata": {},
   "outputs": [
    {
     "name": "stderr",
     "output_type": "stream",
     "text": [
      "Using TensorFlow backend.\n"
     ]
    }
   ],
   "source": [
    "import numpy as np\n",
    "import pandas as pd\n",
    "import tensorflow as tf\n",
    "import matplotlib.pyplot as plt\n",
    "from collections import Counter\n",
    "import cv2, os\n",
    "from keras.models import Sequential\n",
    "from keras.layers import Conv2D\n",
    "from keras.layers import MaxPooling2D\n",
    "from keras.layers import Flatten\n",
    "from keras.layers import Dense, Dropout\n",
    "from keras import optimizers"
   ]
  },
  {
   "cell_type": "markdown",
   "metadata": {},
   "source": [
    "## Set Directory Dataset American Sign Language"
   ]
  },
  {
   "cell_type": "code",
   "execution_count": 3,
   "metadata": {},
   "outputs": [],
   "source": [
    "train_dir = 'mydata/train_set/'\n",
    "train_folders = os.listdir(train_dir)\n",
    "test_dir = 'mydata/test_set/'\n",
    "test_files = os.listdir(test_dir)"
   ]
  },
  {
   "cell_type": "markdown",
   "metadata": {},
   "source": [
    "## Build CNN Model"
   ]
  },
  {
   "cell_type": "code",
   "execution_count": 4,
   "metadata": {},
   "outputs": [
    {
     "name": "stdout",
     "output_type": "stream",
     "text": [
      "Found 69600 images belonging to 29 classes.\n",
      "Found 17400 images belonging to 29 classes.\n"
     ]
    }
   ],
   "source": [
    "# Part 1 Building the CNN\n",
    "# Importing the Keras libraries and packages\n",
    "\n",
    "\n",
    "# Images Dimensions\n",
    "img_width, img_height = 200, 200\n",
    "train_data_dir = 'mydata/train_set'\n",
    "test_data_dir = 'mydata/test_set'\n",
    "# Initialing the CNN\n",
    "classifier = Sequential()\n",
    "\n",
    "# Step 1 - Convolution Layer \n",
    "classifier.add(Conv2D(32, (9, 9), \n",
    "                      activation = \"relu\", \n",
    "                      input_shape = (200, 200, 3)))\n",
    "# Parameter pertama (32) adalah nilai filter nya\n",
    "# Parameter kedua adalah dimensi filter nya (3×3)\n",
    "# Parameter ketiga adalah fungsi aktivasi yang kita gunakan (relu)\n",
    "# Parameter keempat self explained yaitu bentuk input nya dan tipe nya (Grayscale)\n",
    "\n",
    "# Step 2 - Pooling, Pooling bertujuan untuk mereduksi ukuran gambar\n",
    "classifier.add(MaxPooling2D(pool_size =(2,2)))\n",
    "\n",
    "# Adding second convolution layer\n",
    "classifier.add(Conv2D(32, (9, 9), activation = \"relu\"))\n",
    "classifier.add(MaxPooling2D(pool_size =(2,2)))\n",
    "\n",
    "# Adding 3rd Concolution Layer\n",
    "classifier.add(Conv2D(64, (9, 9), activation = \"relu\"))\n",
    "classifier.add(MaxPooling2D(pool_size =(2,2)))\n",
    "\n",
    "# Step 3 - Flattening\n",
    "# Data pooling yang kita miliki berupa array 2 dimensi kemudian dikonversi menjadi data satu dimensi single vector\n",
    "classifier.add(Flatten())\n",
    "\n",
    "# Step 4 - Full Connection\n",
    "# Dense adalah fungsi untuk menambahkan layer yang fully connected.\n",
    "# Parameter 1 (units)menandakan jumlah node yang harus ada di hidden layer,\n",
    "# nilainya antara jumlah input node dan output node\n",
    "classifier.add(Dense(256, activation = \"relu\"))\n",
    "classifier.add(Dropout(0.5))\n",
    "classifier.add(Dense(29, activation = \"softmax\"))\n",
    "\n",
    "# Compiling The CNN,optimizer yang digunakan Stochastic Gradient Descent dengan learning rate 0.01 \n",
    "classifier.compile(\n",
    "              optimizer = optimizers.SGD(lr = 0.01),\n",
    "              loss = 'categorical_crossentropy',\n",
    "              metrics = ['accuracy'])\n",
    "\n",
    "# Part 2 Fittting the CNN to the image\n",
    "from keras.preprocessing.image import ImageDataGenerator\n",
    "train_datagen = ImageDataGenerator(\n",
    "        rescale=1./255,\n",
    "        shear_range=0.2,\n",
    "        zoom_range=0.2,\n",
    "        horizontal_flip=True)\n",
    "\n",
    "test_datagen = ImageDataGenerator(rescale=1./255)\n",
    "\n",
    "training_set = train_datagen.flow_from_directory(\n",
    "        train_data_dir,\n",
    "        target_size=(img_width, img_height),\n",
    "        batch_size=256,\n",
    "        class_mode='categorical')\n",
    "\n",
    "test_set = test_datagen.flow_from_directory(\n",
    "        test_data_dir,\n",
    "        target_size=(img_width, img_height),\n",
    "        batch_size=256,\n",
    "        class_mode='categorical')"
   ]
  },
  {
   "cell_type": "markdown",
   "metadata": {},
   "source": [
    "## Dataset Identification"
   ]
  },
  {
   "cell_type": "code",
   "execution_count": 5,
   "metadata": {},
   "outputs": [
    {
     "name": "stdout",
     "output_type": "stream",
     "text": [
      "Reading images from mydata/train_set/A/ ...\n",
      "Reading images from mydata/train_set/B/ ...\n",
      "Reading images from mydata/train_set/C/ ...\n",
      "Reading images from mydata/train_set/D/ ...\n",
      "Reading images from mydata/train_set/del/ ...\n",
      "Reading images from mydata/train_set/E/ ...\n",
      "Reading images from mydata/train_set/F/ ...\n",
      "Reading images from mydata/train_set/G/ ...\n",
      "Reading images from mydata/train_set/H/ ...\n",
      "Reading images from mydata/train_set/I/ ...\n",
      "Reading images from mydata/train_set/J/ ...\n",
      "Reading images from mydata/train_set/K/ ...\n",
      "Reading images from mydata/train_set/L/ ...\n",
      "Reading images from mydata/train_set/M/ ...\n",
      "Reading images from mydata/train_set/N/ ...\n",
      "Reading images from mydata/train_set/nothing/ ...\n",
      "Reading images from mydata/train_set/O/ ...\n",
      "Reading images from mydata/train_set/P/ ...\n",
      "Reading images from mydata/train_set/Q/ ...\n",
      "Reading images from mydata/train_set/R/ ...\n",
      "Reading images from mydata/train_set/S/ ...\n",
      "Reading images from mydata/train_set/space/ ...\n",
      "Reading images from mydata/train_set/T/ ...\n",
      "Reading images from mydata/train_set/U/ ...\n",
      "Reading images from mydata/train_set/V/ ...\n",
      "Reading images from mydata/train_set/W/ ...\n",
      "Reading images from mydata/train_set/X/ ...\n",
      "Reading images from mydata/train_set/Y/ ...\n",
      "Reading images from mydata/train_set/Z/ ...\n"
     ]
    }
   ],
   "source": [
    "x_train, y_train = [], []\n",
    "for folder in train_folders:\n",
    "    files = os.listdir(train_dir + folder)\n",
    "    print('Reading images from ' + train_dir + folder + '/ ...')\n",
    "    for file in files[:87000]:\n",
    "        img = cv2.imread(train_dir + folder + '/' + file)\n",
    "        img = cv2.resize(img, (200, 200))\n",
    "        x_train.append(img)\n",
    "        y_train.append(folder)"
   ]
  },
  {
   "cell_type": "code",
   "execution_count": 6,
   "metadata": {},
   "outputs": [
    {
     "name": "stdout",
     "output_type": "stream",
     "text": [
      "Reading images from mydata/test_set/A/ ...\n",
      "Reading images from mydata/test_set/B/ ...\n",
      "Reading images from mydata/test_set/C/ ...\n",
      "Reading images from mydata/test_set/D/ ...\n",
      "Reading images from mydata/test_set/del/ ...\n",
      "Reading images from mydata/test_set/E/ ...\n",
      "Reading images from mydata/test_set/F/ ...\n",
      "Reading images from mydata/test_set/G/ ...\n",
      "Reading images from mydata/test_set/H/ ...\n",
      "Reading images from mydata/test_set/I/ ...\n",
      "Reading images from mydata/test_set/J/ ...\n",
      "Reading images from mydata/test_set/K/ ...\n",
      "Reading images from mydata/test_set/L/ ...\n",
      "Reading images from mydata/test_set/M/ ...\n",
      "Reading images from mydata/test_set/N/ ...\n",
      "Reading images from mydata/test_set/nothing/ ...\n",
      "Reading images from mydata/test_set/O/ ...\n",
      "Reading images from mydata/test_set/P/ ...\n",
      "Reading images from mydata/test_set/Q/ ...\n",
      "Reading images from mydata/test_set/R/ ...\n",
      "Reading images from mydata/test_set/S/ ...\n",
      "Reading images from mydata/test_set/space/ ...\n",
      "Reading images from mydata/test_set/T/ ...\n",
      "Reading images from mydata/test_set/U/ ...\n",
      "Reading images from mydata/test_set/V/ ...\n",
      "Reading images from mydata/test_set/W/ ...\n",
      "Reading images from mydata/test_set/X/ ...\n",
      "Reading images from mydata/test_set/Y/ ...\n",
      "Reading images from mydata/test_set/Z/ ...\n"
     ]
    }
   ],
   "source": [
    "x_train, y_train = [], []\n",
    "for folder in train_folders:\n",
    "    files = os.listdir(test_dir + folder)\n",
    "    print('Reading images from ' + test_dir + folder + '/ ...')\n",
    "    for file in files[:87000]:\n",
    "        img = cv2.imread(test_dir + folder + '/' + file)\n",
    "        img = cv2.resize(img, (200, 200))\n",
    "        x_train.append(img)\n",
    "        y_train.append(folder)"
   ]
  },
  {
   "cell_type": "code",
   "execution_count": 8,
   "metadata": {
    "scrolled": false
   },
   "outputs": [
    {
     "name": "stdout",
     "output_type": "stream",
     "text": [
      "Epoch 1/10\n",
      "10/10 [==============================] - 484s 48s/step - loss: 3.3692 - acc: 0.0320 - val_loss: 3.3680 - val_acc: 0.0354\n",
      "Epoch 2/10\n",
      "10/10 [==============================] - 487s 49s/step - loss: 3.3698 - acc: 0.0305 - val_loss: 3.3637 - val_acc: 0.0367\n",
      "Epoch 3/10\n",
      "10/10 [==============================] - 518s 52s/step - loss: 3.3663 - acc: 0.0312 - val_loss: 3.3609 - val_acc: 0.0372\n",
      "Epoch 4/10\n",
      "10/10 [==============================] - 517s 52s/step - loss: 3.3657 - acc: 0.0371 - val_loss: 3.3601 - val_acc: 0.0633\n",
      "Epoch 5/10\n",
      "10/10 [==============================] - 513s 51s/step - loss: 3.3645 - acc: 0.0422 - val_loss: 3.3577 - val_acc: 0.0637\n",
      "Epoch 6/10\n",
      "10/10 [==============================] - 503s 50s/step - loss: 3.3653 - acc: 0.0449 - val_loss: 3.3560 - val_acc: 0.0748\n",
      "Epoch 7/10\n",
      "10/10 [==============================] - 516s 52s/step - loss: 3.3585 - acc: 0.0457 - val_loss: 3.3509 - val_acc: 0.0546\n",
      "Epoch 8/10\n",
      "10/10 [==============================] - 489s 49s/step - loss: 3.3588 - acc: 0.0492 - val_loss: 3.3458 - val_acc: 0.0801\n",
      "Epoch 9/10\n",
      "10/10 [==============================] - 551s 55s/step - loss: 3.3588 - acc: 0.0434 - val_loss: 3.3406 - val_acc: 0.0658\n",
      "Epoch 10/10\n",
      "10/10 [==============================] - 506s 51s/step - loss: 3.3526 - acc: 0.0473 - val_loss: 3.3330 - val_acc: 0.0620\n",
      "dict_keys(['val_loss', 'val_acc', 'loss', 'acc'])\n"
     ]
    }
   ],
   "source": [
    "model = classifier.fit_generator(\n",
    "        training_set,\n",
    "        steps_per_epoch=10,\n",
    "        epochs=10,\n",
    "        validation_data = test_set,\n",
    "        validation_steps = 20 \n",
    "      )\n",
    "\n",
    "# Saving the model\n",
    "import h5py\n",
    "classifier.save('Trained_model_E.h5')\n",
    "\n",
    "print(model.history.keys())"
   ]
  },
  {
   "cell_type": "code",
   "execution_count": 9,
   "metadata": {},
   "outputs": [
    {
     "data": {
      "image/png": "[encoded data removed]",
      "text/plain": [
       "<Figure size 432x288 with 1 Axes>"
      ]
     },
     "metadata": {
      "needs_background": "light"
     },
     "output_type": "display_data"
    }
   ],
   "source": [
    "import matplotlib.pyplot as plt\n",
    "plt.plot(model.history['acc'])\n",
    "plt.plot(model.history['val_acc'])\n",
    "plt.title('model accuracy')\n",
    "plt.ylabel('accuracy')\n",
    "plt.xlabel('epoch')\n",
    "plt.legend(['train', 'test'], loc='upper left')\n",
    "plt.show()"
   ]
  },
  {
   "cell_type": "code",
   "execution_count": 10,
   "metadata": {},
   "outputs": [
    {
     "data": {
      "image/png": "[encoded data removed]",
      "text/plain": [
       "<Figure size 432x288 with 1 Axes>"
      ]
     },
     "metadata": {
      "needs_background": "light"
     },
     "output_type": "display_data"
    }
   ],
   "source": [
    "# summarize history for loss\n",
    "plt.plot(model.history['loss'])\n",
    "plt.plot(model.history['val_loss'])\n",
    "plt.title('model loss')\n",
    "plt.ylabel('loss')\n",
    "plt.xlabel('epoch')\n",
    "plt.legend(['train', 'test'], loc='upper left')\n",
    "plt.show()"
   ]
  },
  {
   "cell_type": "code",
   "execution_count": null,
   "metadata": {},
   "outputs": [],
   "source": []
  }
 ],
 "metadata": {
  "kernelspec": {
   "display_name": "Python 3",
   "language": "python",
   "name": "python3"
  },
  "language_info": {
   "codemirror_mode": {
    "name": "ipython",
    "version": 3
   },
   "file_extension": ".py",
   "mimetype": "text/x-python",
   "name": "python",
   "nbconvert_exporter": "python",
   "pygments_lexer": "ipython3",
   "version": "3.6.8"
  }
 },
 "nbformat": 4,
 "nbformat_minor": 2
}

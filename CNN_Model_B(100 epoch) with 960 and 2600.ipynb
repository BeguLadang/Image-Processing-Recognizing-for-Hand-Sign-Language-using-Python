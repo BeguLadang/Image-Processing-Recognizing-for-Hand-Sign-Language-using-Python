{
 "cells": [
  {
   "cell_type": "markdown",
   "metadata": {},
   "source": [
    "## CNN Model TA-D4TI 05 ( 100 Epoch ) Model B"
   ]
  },
  {
   "cell_type": "code",
   "execution_count": 1,
   "metadata": {},
   "outputs": [
    {
     "name": "stderr",
     "output_type": "stream",
     "text": [
      "Using TensorFlow backend.\n"
     ]
    }
   ],
   "source": [
    "import numpy as np\n",
    "import pandas as pd\n",
    "import tensorflow as tf\n",
    "import matplotlib.pyplot as plt\n",
    "from collections import Counter\n",
    "import cv2, os\n",
    "import keras\n",
    "from keras.models import Sequential\n",
    "from keras.layers import Conv2D\n",
    "from keras.layers import MaxPooling2D\n",
    "from keras.layers import Flatten\n",
    "from keras.layers import Dense, Dropout\n",
    "from keras import optimizers"
   ]
  },
  {
   "cell_type": "code",
   "execution_count": 2,
   "metadata": {},
   "outputs": [],
   "source": [
    "config = tf.ConfigProto( device_count = {'GPU': 1 , 'CPU': 56} ) \n",
    "sess = tf.Session(config=config) \n",
    "keras.backend.set_session(sess)\n",
    "sess = tf.Session(config=tf.ConfigProto(log_device_placement=True))"
   ]
  },
  {
   "cell_type": "markdown",
   "metadata": {},
   "source": [
    "## Set Directory Dataset American Sign Language"
   ]
  },
  {
   "cell_type": "code",
   "execution_count": 3,
   "metadata": {},
   "outputs": [],
   "source": [
    "train_dir = 'mydata/train_blackwhite/'\n",
    "train_folders = os.listdir(train_dir)\n",
    "test_dir = 'mydata/test_blackwhite/'\n",
    "test_files = os.listdir(test_dir)"
   ]
  },
  {
   "cell_type": "markdown",
   "metadata": {},
   "source": [
    "## Membangun CNN ModelB"
   ]
  },
  {
   "cell_type": "code",
   "execution_count": 4,
   "metadata": {},
   "outputs": [
    {
     "name": "stdout",
     "output_type": "stream",
     "text": [
      "Found 69600 images belonging to 29 classes.\n",
      "Found 17400 images belonging to 29 classes.\n"
     ]
    }
   ],
   "source": [
    "# Part 1 Building the CNN\n",
    "# Importing the Keras libraries and packages\n",
    "\n",
    "\n",
    "# Images Dimensions\n",
    "img_width, img_height = 200, 200\n",
    "train_data_dir = 'mydata/train_blackwhite'\n",
    "test_data_dir = 'mydata/test_blackwhite'\n",
    "# Initialing the CNN\n",
    "classifier = Sequential()\n",
    "\n",
    "# Step 1 - Convolution Layer \n",
    "classifier.add(Conv2D(32, (5, 5), \n",
    "                      activation = \"relu\", \n",
    "                      input_shape = (200, 200, 3)))\n",
    "# Parameter pertama (32) adalah nilai filter nya\n",
    "# Parameter kedua adalah dimensi filter nya (3×3)\n",
    "# Parameter ketiga adalah fungsi aktivasi yang kita gunakan (relu)\n",
    "# Parameter keempat self explained yaitu bentuk input nya dan tipe nya\n",
    "\n",
    "# Step 2 - Pooling, Pooling bertujuan untuk mereduksi ukuran gambar\n",
    "classifier.add(MaxPooling2D(pool_size =(2,2)))\n",
    "\n",
    "# Adding second convolution layer\n",
    "classifier.add(Conv2D(32, (5, 5), activation = \"relu\"))\n",
    "classifier.add(MaxPooling2D(pool_size =(2,2)))\n",
    "\n",
    "# Adding 3rd Concolution Layer\n",
    "classifier.add(Conv2D(64, (5, 5), activation = \"relu\"))\n",
    "classifier.add(MaxPooling2D(pool_size =(2,2)))\n",
    "\n",
    "# Adding 4rd Concolution Layer ( New Layer )\n",
    "classifier.add(Conv2D(64, (4, 4), activation = \"relu\"))\n",
    "classifier.add(MaxPooling2D(pool_size =(2,2)))\n",
    "\n",
    "# Step 3 - Flattening\n",
    "# Data pooling yang kita miliki berupa array 2 dimensi kemudian dikonversi menjadi data satu dimensi single vector\n",
    "classifier.add(Flatten())\n",
    "\n",
    "# Step 4 - Full Connection\n",
    "# Dense adalah fungsi untuk menambahkan layer yang fully connected.\n",
    "# Parameter 1 (units)menandakan jumlah node yang harus ada di hidden layer,\n",
    "# nilainya antara jumlah input node dan output node\n",
    "classifier.add(Dense(256, activation = \"relu\"))\n",
    "classifier.add(Dropout(0.5))\n",
    "classifier.add(Dense(29, activation = \"softmax\"))\n",
    "\n",
    "# Compiling The CNN,optimizer yang digunakan Stochastic Gradient Descent dengan learning rate 0.01 \n",
    "classifier.compile(\n",
    "              optimizer = optimizers.SGD(lr = 0.01),\n",
    "              loss = 'categorical_crossentropy',\n",
    "              metrics = ['accuracy'])\n",
    "\n",
    "# Part 2 Fittting the CNN to the image\n",
    "from keras.preprocessing.image import ImageDataGenerator\n",
    "train_datagen = ImageDataGenerator(\n",
    "        rescale=1./255,\n",
    "        shear_range=0.2,\n",
    "        zoom_range=0.2,\n",
    "        horizontal_flip=True)\n",
    "\n",
    "test_datagen = ImageDataGenerator(rescale=1./255)\n",
    "\n",
    "training_set = train_datagen.flow_from_directory(\n",
    "        train_data_dir,\n",
    "        target_size=(img_width, img_height),\n",
    "        batch_size=32,\n",
    "        class_mode='categorical')\n",
    "\n",
    "test_set = test_datagen.flow_from_directory(\n",
    "        test_data_dir,\n",
    "        target_size=(img_width, img_height),\n",
    "        batch_size=32,\n",
    "        class_mode='categorical')"
   ]
  },
  {
   "cell_type": "markdown",
   "metadata": {},
   "source": [
    "## Identifikasi Directory Train_set"
   ]
  },
  {
   "cell_type": "code",
   "execution_count": 5,
   "metadata": {},
   "outputs": [
    {
     "name": "stdout",
     "output_type": "stream",
     "text": [
      "Reading images from mydata/train_blackwhite/A/ ...\n",
      "Reading images from mydata/train_blackwhite/B/ ...\n",
      "Reading images from mydata/train_blackwhite/C/ ...\n",
      "Reading images from mydata/train_blackwhite/D/ ...\n",
      "Reading images from mydata/train_blackwhite/del/ ...\n",
      "Reading images from mydata/train_blackwhite/E/ ...\n",
      "Reading images from mydata/train_blackwhite/F/ ...\n",
      "Reading images from mydata/train_blackwhite/G/ ...\n",
      "Reading images from mydata/train_blackwhite/H/ ...\n",
      "Reading images from mydata/train_blackwhite/I/ ...\n",
      "Reading images from mydata/train_blackwhite/J/ ...\n",
      "Reading images from mydata/train_blackwhite/K/ ...\n",
      "Reading images from mydata/train_blackwhite/L/ ...\n",
      "Reading images from mydata/train_blackwhite/M/ ...\n",
      "Reading images from mydata/train_blackwhite/N/ ...\n",
      "Reading images from mydata/train_blackwhite/nothing/ ...\n",
      "Reading images from mydata/train_blackwhite/O/ ...\n",
      "Reading images from mydata/train_blackwhite/P/ ...\n",
      "Reading images from mydata/train_blackwhite/Q/ ...\n",
      "Reading images from mydata/train_blackwhite/R/ ...\n",
      "Reading images from mydata/train_blackwhite/S/ ...\n",
      "Reading images from mydata/train_blackwhite/space/ ...\n",
      "Reading images from mydata/train_blackwhite/T/ ...\n",
      "Reading images from mydata/train_blackwhite/U/ ...\n",
      "Reading images from mydata/train_blackwhite/V/ ...\n",
      "Reading images from mydata/train_blackwhite/W/ ...\n",
      "Reading images from mydata/train_blackwhite/X/ ...\n",
      "Reading images from mydata/train_blackwhite/Y/ ...\n",
      "Reading images from mydata/train_blackwhite/Z/ ...\n"
     ]
    }
   ],
   "source": [
    "x_train, y_train = [], []\n",
    "for folder in train_folders:\n",
    "    files = os.listdir(train_dir + folder)\n",
    "    print('Reading images from ' + train_dir + folder + '/ ...')\n",
    "    for file in files[:87000]:\n",
    "        img = cv2.imread(train_dir + folder + '/' + file)\n",
    "        img = cv2.resize(img, (200, 200))\n",
    "        x_train.append(img)\n",
    "        y_train.append(folder)"
   ]
  },
  {
   "cell_type": "markdown",
   "metadata": {},
   "source": [
    "## Identifikasi Directory Test_set"
   ]
  },
  {
   "cell_type": "code",
   "execution_count": 6,
   "metadata": {},
   "outputs": [
    {
     "name": "stdout",
     "output_type": "stream",
     "text": [
      "Reading images from mydata/test_blackwhite/A/ ...\n",
      "Reading images from mydata/test_blackwhite/B/ ...\n",
      "Reading images from mydata/test_blackwhite/C/ ...\n",
      "Reading images from mydata/test_blackwhite/D/ ...\n",
      "Reading images from mydata/test_blackwhite/del/ ...\n",
      "Reading images from mydata/test_blackwhite/E/ ...\n",
      "Reading images from mydata/test_blackwhite/F/ ...\n",
      "Reading images from mydata/test_blackwhite/G/ ...\n",
      "Reading images from mydata/test_blackwhite/H/ ...\n",
      "Reading images from mydata/test_blackwhite/I/ ...\n",
      "Reading images from mydata/test_blackwhite/J/ ...\n",
      "Reading images from mydata/test_blackwhite/K/ ...\n",
      "Reading images from mydata/test_blackwhite/L/ ...\n",
      "Reading images from mydata/test_blackwhite/M/ ...\n",
      "Reading images from mydata/test_blackwhite/N/ ...\n",
      "Reading images from mydata/test_blackwhite/nothing/ ...\n",
      "Reading images from mydata/test_blackwhite/O/ ...\n",
      "Reading images from mydata/test_blackwhite/P/ ...\n",
      "Reading images from mydata/test_blackwhite/Q/ ...\n",
      "Reading images from mydata/test_blackwhite/R/ ...\n",
      "Reading images from mydata/test_blackwhite/S/ ...\n",
      "Reading images from mydata/test_blackwhite/space/ ...\n",
      "Reading images from mydata/test_blackwhite/T/ ...\n",
      "Reading images from mydata/test_blackwhite/U/ ...\n",
      "Reading images from mydata/test_blackwhite/V/ ...\n",
      "Reading images from mydata/test_blackwhite/W/ ...\n",
      "Reading images from mydata/test_blackwhite/X/ ...\n",
      "Reading images from mydata/test_blackwhite/Y/ ...\n",
      "Reading images from mydata/test_blackwhite/Z/ ...\n"
     ]
    }
   ],
   "source": [
    "x_train, y_train = [], []\n",
    "for folder in train_folders:\n",
    "    files = os.listdir(test_dir + folder)\n",
    "    print('Reading images from ' + test_dir + folder + '/ ...')\n",
    "    for file in files[:87000]:\n",
    "        img = cv2.imread(test_dir + folder + '/' + file)\n",
    "        img = cv2.resize(img, (200, 200))\n",
    "        x_train.append(img)\n",
    "        y_train.append(folder)"
   ]
  },
  {
   "cell_type": "markdown",
   "metadata": {},
   "source": [
    "## Training Model B"
   ]
  },
  {
   "cell_type": "code",
   "execution_count": 7,
   "metadata": {
    "scrolled": false
   },
   "outputs": [
    {
     "name": "stdout",
     "output_type": "stream",
     "text": [
      "Epoch 1/100\n",
      "960/960 [==============================] - 2623s 3s/step - loss: 3.2102 - acc: 0.1107 - val_loss: 2.4851 - val_acc: 0.3212\n",
      "Epoch 2/100\n",
      "960/960 [==============================] - 2616s 3s/step - loss: 2.5064 - acc: 0.2526 - val_loss: 1.2747 - val_acc: 0.6320\n",
      "Epoch 3/100\n",
      "960/960 [==============================] - 2622s 3s/step - loss: 1.9531 - acc: 0.3883 - val_loss: 0.7182 - val_acc: 0.7887\n",
      "Epoch 4/100\n",
      "960/960 [==============================] - 2624s 3s/step - loss: 1.6156 - acc: 0.4820 - val_loss: 0.4158 - val_acc: 0.8871\n",
      "Epoch 5/100\n",
      "960/960 [==============================] - 2625s 3s/step - loss: 1.3734 - acc: 0.5515 - val_loss: 0.2975 - val_acc: 0.9188\n",
      "Epoch 6/100\n",
      "960/960 [==============================] - 2625s 3s/step - loss: 1.2237 - acc: 0.5990 - val_loss: 0.2197 - val_acc: 0.9371\n",
      "Epoch 7/100\n",
      "960/960 [==============================] - 2625s 3s/step - loss: 1.0914 - acc: 0.6363 - val_loss: 0.1453 - val_acc: 0.9601\n",
      "Epoch 8/100\n",
      "960/960 [==============================] - 2624s 3s/step - loss: 0.9927 - acc: 0.6680 - val_loss: 0.1138 - val_acc: 0.9736\n",
      "Epoch 9/100\n",
      "960/960 [==============================] - 2624s 3s/step - loss: 0.9177 - acc: 0.6925 - val_loss: 0.0775 - val_acc: 0.9855\n",
      "Epoch 10/100\n",
      "960/960 [==============================] - 2625s 3s/step - loss: 0.8449 - acc: 0.7142 - val_loss: 0.0744 - val_acc: 0.9825\n",
      "Epoch 11/100\n",
      "960/960 [==============================] - 2625s 3s/step - loss: 0.7874 - acc: 0.7362 - val_loss: 0.0559 - val_acc: 0.9857\n",
      "Epoch 12/100\n",
      "960/960 [==============================] - 2625s 3s/step - loss: 0.7279 - acc: 0.7547 - val_loss: 0.0487 - val_acc: 0.9862\n",
      "Epoch 13/100\n",
      "960/960 [==============================] - 2624s 3s/step - loss: 0.6915 - acc: 0.7670 - val_loss: 0.0297 - val_acc: 0.9937\n",
      "Epoch 14/100\n",
      "960/960 [==============================] - 2625s 3s/step - loss: 0.6515 - acc: 0.7800 - val_loss: 0.0422 - val_acc: 0.9899\n",
      "Epoch 15/100\n",
      "960/960 [==============================] - 2626s 3s/step - loss: 0.6090 - acc: 0.7927 - val_loss: 0.0328 - val_acc: 0.9894\n",
      "Epoch 16/100\n",
      "960/960 [==============================] - 2624s 3s/step - loss: 0.5824 - acc: 0.8037 - val_loss: 0.0244 - val_acc: 0.9948\n",
      "Epoch 17/100\n",
      "960/960 [==============================] - 2619s 3s/step - loss: 0.5544 - acc: 0.8109 - val_loss: 0.0198 - val_acc: 0.9957\n",
      "Epoch 18/100\n",
      "960/960 [==============================] - 2618s 3s/step - loss: 0.5314 - acc: 0.8199 - val_loss: 0.0173 - val_acc: 0.9971\n",
      "Epoch 19/100\n",
      "960/960 [==============================] - 2621s 3s/step - loss: 0.4969 - acc: 0.8288 - val_loss: 0.0145 - val_acc: 0.9972\n",
      "Epoch 20/100\n",
      "960/960 [==============================] - 2622s 3s/step - loss: 0.4871 - acc: 0.8355 - val_loss: 0.0114 - val_acc: 0.9982\n",
      "Epoch 21/100\n",
      "960/960 [==============================] - 2623s 3s/step - loss: 0.4583 - acc: 0.8446 - val_loss: 0.0184 - val_acc: 0.9940\n",
      "Epoch 22/100\n",
      "960/960 [==============================] - 2626s 3s/step - loss: 0.4410 - acc: 0.8476 - val_loss: 0.0097 - val_acc: 0.9986\n",
      "Epoch 23/100\n",
      "960/960 [==============================] - 2624s 3s/step - loss: 0.4354 - acc: 0.8505 - val_loss: 0.0091 - val_acc: 0.9983\n",
      "Epoch 24/100\n",
      "960/960 [==============================] - 2624s 3s/step - loss: 0.4023 - acc: 0.8620 - val_loss: 0.0093 - val_acc: 0.9979\n",
      "Epoch 25/100\n",
      "960/960 [==============================] - 2622s 3s/step - loss: 0.3962 - acc: 0.8611 - val_loss: 0.0104 - val_acc: 0.9982\n",
      "Epoch 26/100\n",
      "960/960 [==============================] - 2623s 3s/step - loss: 0.3751 - acc: 0.8700 - val_loss: 0.0070 - val_acc: 0.9983\n",
      "Epoch 27/100\n",
      "960/960 [==============================] - 2623s 3s/step - loss: 0.3634 - acc: 0.8764 - val_loss: 0.0048 - val_acc: 0.9995\n",
      "Epoch 28/100\n",
      "960/960 [==============================] - 2621s 3s/step - loss: 0.3532 - acc: 0.8788 - val_loss: 0.0040 - val_acc: 0.9993\n",
      "Epoch 29/100\n",
      "960/960 [==============================] - 2621s 3s/step - loss: 0.3385 - acc: 0.8841 - val_loss: 0.0043 - val_acc: 0.9995\n",
      "Epoch 30/100\n",
      "960/960 [==============================] - 2624s 3s/step - loss: 0.3340 - acc: 0.8845 - val_loss: 0.0038 - val_acc: 0.9995\n",
      "Epoch 31/100\n",
      "960/960 [==============================] - 2624s 3s/step - loss: 0.3181 - acc: 0.8896 - val_loss: 0.0049 - val_acc: 0.9989\n",
      "Epoch 32/100\n",
      "960/960 [==============================] - 2624s 3s/step - loss: 0.3070 - acc: 0.8930 - val_loss: 0.0025 - val_acc: 0.9998\n",
      "Epoch 33/100\n",
      "960/960 [==============================] - 2625s 3s/step - loss: 0.3046 - acc: 0.8958 - val_loss: 0.0045 - val_acc: 0.9989\n",
      "Epoch 34/100\n",
      "960/960 [==============================] - 2625s 3s/step - loss: 0.2901 - acc: 0.8995 - val_loss: 0.0024 - val_acc: 0.9994\n",
      "Epoch 35/100\n",
      "960/960 [==============================] - 2624s 3s/step - loss: 0.2786 - acc: 0.9040 - val_loss: 0.0026 - val_acc: 0.9997\n",
      "Epoch 36/100\n",
      "960/960 [==============================] - 2623s 3s/step - loss: 0.2756 - acc: 0.9057 - val_loss: 0.0015 - val_acc: 0.9999\n",
      "Epoch 37/100\n",
      "960/960 [==============================] - 2621s 3s/step - loss: 0.2707 - acc: 0.9062 - val_loss: 0.0021 - val_acc: 0.9998\n",
      "Epoch 38/100\n",
      "960/960 [==============================] - 2622s 3s/step - loss: 0.2612 - acc: 0.9089 - val_loss: 0.0028 - val_acc: 0.9997\n",
      "Epoch 39/100\n",
      "960/960 [==============================] - 2623s 3s/step - loss: 0.2603 - acc: 0.9104 - val_loss: 0.0025 - val_acc: 0.9996\n",
      "Epoch 40/100\n",
      "960/960 [==============================] - 2623s 3s/step - loss: 0.2546 - acc: 0.9119 - val_loss: 0.0012 - val_acc: 1.0000\n",
      "Epoch 41/100\n",
      "960/960 [==============================] - 2624s 3s/step - loss: 0.2428 - acc: 0.9161 - val_loss: 0.0014 - val_acc: 0.9998\n",
      "Epoch 42/100\n",
      "960/960 [==============================] - 2623s 3s/step - loss: 0.2375 - acc: 0.9186 - val_loss: 0.0016 - val_acc: 0.9999\n",
      "Epoch 43/100\n",
      "960/960 [==============================] - 2622s 3s/step - loss: 0.2271 - acc: 0.9210 - val_loss: 0.0011 - val_acc: 1.0000\n",
      "Epoch 44/100\n",
      "960/960 [==============================] - 2622s 3s/step - loss: 0.2297 - acc: 0.9209 - val_loss: 6.2512e-04 - val_acc: 1.0000\n",
      "Epoch 45/100\n",
      "960/960 [==============================] - 2623s 3s/step - loss: 0.2248 - acc: 0.9226 - val_loss: 0.0018 - val_acc: 0.9996\n",
      "Epoch 46/100\n",
      "960/960 [==============================] - 2622s 3s/step - loss: 0.2093 - acc: 0.9248 - val_loss: 0.0011 - val_acc: 0.9998\n",
      "Epoch 47/100\n",
      "960/960 [==============================] - 2621s 3s/step - loss: 0.2203 - acc: 0.9232 - val_loss: 9.5146e-04 - val_acc: 0.9999\n",
      "Epoch 48/100\n",
      "960/960 [==============================] - 2619s 3s/step - loss: 0.2050 - acc: 0.9302 - val_loss: 3.3760e-04 - val_acc: 1.0000\n",
      "Epoch 49/100\n",
      "960/960 [==============================] - 2621s 3s/step - loss: 0.2097 - acc: 0.9280 - val_loss: 8.8623e-04 - val_acc: 1.0000\n",
      "Epoch 50/100\n",
      "960/960 [==============================] - 2621s 3s/step - loss: 0.1982 - acc: 0.9310 - val_loss: 6.0382e-04 - val_acc: 1.0000\n",
      "Epoch 51/100\n",
      "960/960 [==============================] - 2620s 3s/step - loss: 0.1959 - acc: 0.9311 - val_loss: 9.2898e-04 - val_acc: 0.9999\n",
      "Epoch 52/100\n",
      "960/960 [==============================] - 2627s 3s/step - loss: 0.1881 - acc: 0.9336 - val_loss: 4.2468e-04 - val_acc: 1.0000\n",
      "Epoch 53/100\n",
      "960/960 [==============================] - 2626s 3s/step - loss: 0.1898 - acc: 0.9337 - val_loss: 6.5154e-04 - val_acc: 1.0000\n",
      "Epoch 54/100\n",
      "960/960 [==============================] - 2626s 3s/step - loss: 0.1850 - acc: 0.9352 - val_loss: 3.8113e-04 - val_acc: 1.0000\n",
      "Epoch 55/100\n",
      "960/960 [==============================] - 2628s 3s/step - loss: 0.1835 - acc: 0.9362 - val_loss: 2.9767e-04 - val_acc: 1.0000\n",
      "Epoch 56/100\n",
      "960/960 [==============================] - 2631s 3s/step - loss: 0.1827 - acc: 0.9368 - val_loss: 3.6771e-04 - val_acc: 1.0000\n",
      "Epoch 57/100\n",
      "960/960 [==============================] - 2631s 3s/step - loss: 0.1722 - acc: 0.9389 - val_loss: 7.8817e-04 - val_acc: 0.9999\n",
      "Epoch 58/100\n",
      "960/960 [==============================] - 2630s 3s/step - loss: 0.1713 - acc: 0.9410 - val_loss: 5.4129e-04 - val_acc: 0.9999\n",
      "Epoch 59/100\n",
      "960/960 [==============================] - 2630s 3s/step - loss: 0.1667 - acc: 0.9441 - val_loss: 2.9399e-04 - val_acc: 1.0000\n",
      "Epoch 60/100\n",
      "960/960 [==============================] - 2633s 3s/step - loss: 0.1664 - acc: 0.9426 - val_loss: 0.0012 - val_acc: 0.9996\n"
     ]
    },
    {
     "name": "stdout",
     "output_type": "stream",
     "text": [
      "Epoch 61/100\n",
      "960/960 [==============================] - 2628s 3s/step - loss: 0.1618 - acc: 0.9436 - val_loss: 3.5606e-04 - val_acc: 1.0000\n",
      "Epoch 62/100\n",
      "960/960 [==============================] - 2629s 3s/step - loss: 0.1624 - acc: 0.9448 - val_loss: 3.9877e-04 - val_acc: 1.0000\n",
      "Epoch 63/100\n",
      "960/960 [==============================] - 2627s 3s/step - loss: 0.1555 - acc: 0.9471 - val_loss: 3.2016e-04 - val_acc: 1.0000\n",
      "Epoch 64/100\n",
      "960/960 [==============================] - 2629s 3s/step - loss: 0.1549 - acc: 0.9451 - val_loss: 2.7931e-04 - val_acc: 1.0000\n",
      "Epoch 65/100\n",
      "960/960 [==============================] - 2630s 3s/step - loss: 0.1513 - acc: 0.9483 - val_loss: 9.4735e-04 - val_acc: 0.9998\n",
      "Epoch 66/100\n",
      "960/960 [==============================] - 2628s 3s/step - loss: 0.1461 - acc: 0.9510 - val_loss: 4.1514e-04 - val_acc: 0.9999\n",
      "Epoch 67/100\n",
      "960/960 [==============================] - 2630s 3s/step - loss: 0.1440 - acc: 0.9496 - val_loss: 2.8376e-04 - val_acc: 0.9999\n",
      "Epoch 68/100\n",
      "960/960 [==============================] - 2630s 3s/step - loss: 0.1447 - acc: 0.9499 - val_loss: 3.8699e-04 - val_acc: 0.9999\n",
      "Epoch 69/100\n",
      "960/960 [==============================] - 2627s 3s/step - loss: 0.1437 - acc: 0.9495 - val_loss: 3.5160e-04 - val_acc: 0.9999\n",
      "Epoch 70/100\n",
      "960/960 [==============================] - 2624s 3s/step - loss: 0.1419 - acc: 0.9507 - val_loss: 1.9900e-04 - val_acc: 1.0000\n",
      "Epoch 71/100\n",
      "960/960 [==============================] - 2622s 3s/step - loss: 0.1389 - acc: 0.9523 - val_loss: 1.5534e-04 - val_acc: 1.0000\n",
      "Epoch 72/100\n",
      "960/960 [==============================] - 2620s 3s/step - loss: 0.1279 - acc: 0.9566 - val_loss: 2.4748e-04 - val_acc: 1.0000\n",
      "Epoch 73/100\n",
      "960/960 [==============================] - 2622s 3s/step - loss: 0.1356 - acc: 0.9537 - val_loss: 2.0847e-04 - val_acc: 1.0000\n",
      "Epoch 74/100\n",
      "960/960 [==============================] - 2623s 3s/step - loss: 0.1264 - acc: 0.9562 - val_loss: 1.2574e-04 - val_acc: 1.0000\n",
      "Epoch 75/100\n",
      "960/960 [==============================] - 2621s 3s/step - loss: 0.1269 - acc: 0.9567 - val_loss: 3.7609e-04 - val_acc: 0.9999\n",
      "Epoch 76/100\n",
      "960/960 [==============================] - 2624s 3s/step - loss: 0.1261 - acc: 0.9560 - val_loss: 7.0143e-05 - val_acc: 1.0000\n",
      "Epoch 77/100\n",
      "960/960 [==============================] - 2622s 3s/step - loss: 0.1328 - acc: 0.9555 - val_loss: 2.1479e-04 - val_acc: 1.0000\n",
      "Epoch 78/100\n",
      "960/960 [==============================] - 2623s 3s/step - loss: 0.1220 - acc: 0.9580 - val_loss: 5.4736e-04 - val_acc: 0.9997\n",
      "Epoch 79/100\n",
      "960/960 [==============================] - 2626s 3s/step - loss: 0.1218 - acc: 0.9575 - val_loss: 2.4276e-04 - val_acc: 0.9999\n",
      "Epoch 80/100\n",
      "960/960 [==============================] - 2625s 3s/step - loss: 0.1203 - acc: 0.9581 - val_loss: 1.0504e-04 - val_acc: 1.0000\n",
      "Epoch 81/100\n",
      "960/960 [==============================] - 2626s 3s/step - loss: 0.1177 - acc: 0.9603 - val_loss: 3.8817e-04 - val_acc: 0.9999\n",
      "Epoch 82/100\n",
      "960/960 [==============================] - 2625s 3s/step - loss: 0.1179 - acc: 0.9590 - val_loss: 1.3318e-04 - val_acc: 1.0000\n",
      "Epoch 83/100\n",
      "960/960 [==============================] - 2619s 3s/step - loss: 0.1141 - acc: 0.9601 - val_loss: 3.1344e-04 - val_acc: 1.0000\n",
      "Epoch 84/100\n",
      "960/960 [==============================] - 2622s 3s/step - loss: 0.1174 - acc: 0.9591 - val_loss: 7.6073e-05 - val_acc: 1.0000\n",
      "Epoch 85/100\n",
      "960/960 [==============================] - 2622s 3s/step - loss: 0.1098 - acc: 0.9621 - val_loss: 7.5549e-05 - val_acc: 1.0000\n",
      "Epoch 86/100\n",
      "960/960 [==============================] - 2619s 3s/step - loss: 0.1125 - acc: 0.9606 - val_loss: 3.4054e-04 - val_acc: 0.9998\n",
      "Epoch 87/100\n",
      "960/960 [==============================] - 2622s 3s/step - loss: 0.1070 - acc: 0.9632 - val_loss: 1.4006e-04 - val_acc: 1.0000\n",
      "Epoch 88/100\n",
      "960/960 [==============================] - 2623s 3s/step - loss: 0.1083 - acc: 0.9636 - val_loss: 9.1058e-05 - val_acc: 1.0000\n",
      "Epoch 89/100\n",
      "960/960 [==============================] - 2624s 3s/step - loss: 0.1058 - acc: 0.9627 - val_loss: 5.8781e-05 - val_acc: 1.0000\n",
      "Epoch 90/100\n",
      "960/960 [==============================] - 2626s 3s/step - loss: 0.1050 - acc: 0.9636 - val_loss: 4.3259e-04 - val_acc: 0.9999\n",
      "Epoch 91/100\n",
      "960/960 [==============================] - 2627s 3s/step - loss: 0.1043 - acc: 0.9633 - val_loss: 3.3245e-04 - val_acc: 1.0000\n",
      "Epoch 92/100\n",
      "960/960 [==============================] - 2623s 3s/step - loss: 0.1010 - acc: 0.9643 - val_loss: 5.1245e-05 - val_acc: 1.0000\n",
      "Epoch 93/100\n",
      "960/960 [==============================] - 2624s 3s/step - loss: 0.1062 - acc: 0.9636 - val_loss: 1.7807e-04 - val_acc: 0.9999\n",
      "Epoch 94/100\n",
      "960/960 [==============================] - 2624s 3s/step - loss: 0.0976 - acc: 0.9658 - val_loss: 1.6464e-04 - val_acc: 0.9999\n",
      "Epoch 95/100\n",
      "960/960 [==============================] - 2628s 3s/step - loss: 0.0978 - acc: 0.9656 - val_loss: 2.0828e-04 - val_acc: 1.0000\n",
      "Epoch 96/100\n",
      "960/960 [==============================] - 2626s 3s/step - loss: 0.0976 - acc: 0.9666 - val_loss: 7.8029e-05 - val_acc: 1.0000\n",
      "Epoch 97/100\n",
      "960/960 [==============================] - 2624s 3s/step - loss: 0.0984 - acc: 0.9664 - val_loss: 3.9450e-05 - val_acc: 1.0000\n",
      "Epoch 98/100\n",
      "960/960 [==============================] - 2624s 3s/step - loss: 0.0984 - acc: 0.9650 - val_loss: 4.0955e-05 - val_acc: 1.0000\n",
      "Epoch 99/100\n",
      "960/960 [==============================] - 2625s 3s/step - loss: 0.0924 - acc: 0.9674 - val_loss: 4.9698e-05 - val_acc: 1.0000\n",
      "Epoch 100/100\n",
      "960/960 [==============================] - 2627s 3s/step - loss: 0.0925 - acc: 0.9682 - val_loss: 5.9542e-05 - val_acc: 1.0000\n",
      "dict_keys(['val_loss', 'val_acc', 'loss', 'acc'])\n"
     ]
    }
   ],
   "source": [
    "model = classifier.fit_generator(\n",
    "        training_set,\n",
    "        steps_per_epoch=960, # jumlah step baru\n",
    "        epochs=100, #jumlah epoch baru\n",
    "        validation_data = test_set,\n",
    "        validation_steps = 2600 # jumlah validation baru \n",
    "      )\n",
    "\n",
    "# Menyimpan hasil training model ke file h5\n",
    "import h5py\n",
    "classifier.save('New Mode B(960 , 2600 ).h5')\n",
    "\n",
    "print(model.history.keys())"
   ]
  },
  {
   "cell_type": "markdown",
   "metadata": {},
   "source": [
    "### Validation step 2600 dan Step per epoch 960"
   ]
  },
  {
   "cell_type": "markdown",
   "metadata": {},
   "source": [
    "## Grafik Akurasi"
   ]
  },
  {
   "cell_type": "code",
   "execution_count": 8,
   "metadata": {},
   "outputs": [
    {
     "data": {
      "image/png": "[encoded data removed]",
      "text/plain": [
       "<Figure size 432x288 with 1 Axes>"
      ]
     },
     "metadata": {
      "needs_background": "light"
     },
     "output_type": "display_data"
    }
   ],
   "source": [
    "import matplotlib.pyplot as plt\n",
    "plt.plot(model.history['acc'])\n",
    "plt.plot(model.history['val_acc'])\n",
    "plt.title('model accuracy')\n",
    "plt.ylabel('accuracy')\n",
    "plt.xlabel('epoch')\n",
    "plt.legend(['train', 'test'], loc='upper left')\n",
    "plt.show()"
   ]
  },
  {
   "cell_type": "markdown",
   "metadata": {},
   "source": [
    "## Grafik Loss"
   ]
  },
  {
   "cell_type": "code",
   "execution_count": 9,
   "metadata": {},
   "outputs": [
    {
     "data": {
      "image/png": "[encoded data removed]",
      "text/plain": [
       "<Figure size 432x288 with 1 Axes>"
      ]
     },
     "metadata": {
      "needs_background": "light"
     },
     "output_type": "display_data"
    }
   ],
   "source": [
    "plt.plot(model.history['loss'])\n",
    "plt.plot(model.history['val_loss'])\n",
    "plt.title('model loss')\n",
    "plt.ylabel('loss')\n",
    "plt.xlabel('epoch')\n",
    "plt.legend(['train', 'test'], loc='upper left')\n",
    "plt.show()"
   ]
  },
  {
   "cell_type": "code",
   "execution_count": null,
   "metadata": {},
   "outputs": [],
   "source": []
  }
 ],
 "metadata": {
  "kernelspec": {
   "display_name": "Python 3",
   "language": "python",
   "name": "python3"
  },
  "language_info": {
   "codemirror_mode": {
    "name": "ipython",
    "version": 3
   },
   "file_extension": ".py",
   "mimetype": "text/x-python",
   "name": "python",
   "nbconvert_exporter": "python",
   "pygments_lexer": "ipython3",
   "version": "3.6.8"
  }
 },
 "nbformat": 4,
 "nbformat_minor": 2
}
